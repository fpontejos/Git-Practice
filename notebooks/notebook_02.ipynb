{
 "cells": [
  {
   "cell_type": "markdown",
   "id": "fb2986b5-dc8c-4351-9427-0d852369cd10",
   "metadata": {},
   "source": [
    "# Notebook 2"
   ]
  },
  {
   "cell_type": "code",
   "execution_count": 1,
   "id": "4fd52e0c-4e6b-44a5-8f7f-f2629c411569",
   "metadata": {},
   "outputs": [
    {
     "name": "stdout",
     "output_type": "stream",
     "text": [
      "9\n"
     ]
    }
   ],
   "source": [
    "print(9)"
   ]
  },
  {
   "cell_type": "markdown",
   "id": "29992468-1ed1-41bf-81bc-d67f9f1939cc",
   "metadata": {},
   "source": [
    "This is something I changed on my own copy."
   ]
  },
  {
   "cell_type": "code",
   "execution_count": null,
   "id": "056293be-5755-4e8f-bcf7-67431331ab68",
   "metadata": {},
   "outputs": [],
   "source": []
  }
 ],
 "metadata": {
  "kernelspec": {
   "display_name": "Python 3 (ipykernel)",
   "language": "python",
   "name": "python3"
  },
  "language_info": {
   "codemirror_mode": {
    "name": "ipython",
    "version": 3
   },
   "file_extension": ".py",
   "mimetype": "text/x-python",
   "name": "python",
   "nbconvert_exporter": "python",
   "pygments_lexer": "ipython3",
   "version": "3.11.5"
  }
 },
 "nbformat": 4,
 "nbformat_minor": 5
}
