{
 "cells": [
  {
   "cell_type": "markdown",
   "id": "b027ab86-ab16-4df8-be7c-f20ab2c7dc7a",
   "metadata": {},
   "source": [
    "# Notebook 3"
   ]
  },
  {
   "cell_type": "code",
   "execution_count": null,
   "id": "4dc74834-b248-4b38-98cd-80f1fa1ab55a",
   "metadata": {},
   "outputs": [],
   "source": []
  },
  {
   "cell_type": "markdown",
   "id": "7af1a80a-0320-45f0-89de-8dddfc641b2e",
   "metadata": {},
   "source": [
    "This is a new notebook from the original repository."
   ]
  },
  {
   "cell_type": "code",
   "execution_count": null,
   "id": "83e17798-613e-4d58-b20b-cd9374ba57d6",
   "metadata": {},
   "outputs": [],
   "source": []
  }
 ],
 "metadata": {
  "kernelspec": {
   "display_name": "Python 3 (ipykernel)",
   "language": "python",
   "name": "python3"
  },
  "language_info": {
   "codemirror_mode": {
    "name": "ipython",
    "version": 3
   },
   "file_extension": ".py",
   "mimetype": "text/x-python",
   "name": "python",
   "nbconvert_exporter": "python",
   "pygments_lexer": "ipython3",
   "version": "3.11.5"
  }
 },
 "nbformat": 4,
 "nbformat_minor": 5
}
